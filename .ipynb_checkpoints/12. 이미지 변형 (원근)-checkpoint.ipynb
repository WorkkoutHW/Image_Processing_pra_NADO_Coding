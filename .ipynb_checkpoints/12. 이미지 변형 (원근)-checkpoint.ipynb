{
 "cells": [
  {
   "cell_type": "markdown",
   "id": "b480cab6",
   "metadata": {},
   "source": [
    "# 12. 이미지 변형 (원근)"
   ]
  },
  {
   "cell_type": "markdown",
   "id": "dea5d4f1",
   "metadata": {},
   "source": [
    "## 사다리꼴 이미지 펼치기"
   ]
  },
  {
   "cell_type": "code",
   "execution_count": 4,
   "id": "a903f5ec",
   "metadata": {},
   "outputs": [],
   "source": [
    "import cv2\n",
    "import numpy as np\n",
    "\n",
    "img = cv2.imread('newspaper.jpg')\n",
    "\n",
    "width, height = 640, 240 # 가로 크기 640, 세로 크기 240 으로 결과물 출력\n",
    "\n",
    "# 그림판에서 좌표 따왔다\n",
    "src = np.array([[511, 352], [1008, 345], [1122, 584], [455, 594]], dtype=np.float32) # input 4개 지정\n",
    "dst = np.array([[0, 0], [width, 0], [width, height], [0, height]], dtype=np.float32) # output 4개 지점\n",
    "# 좌상 > 우상 > 우하 > 좌하 (시계 방향으로 4 지점 정의)\n",
    "\n",
    "matrix = cv2.getPerspectiveTransform(src, dst) # Matrix를 얻어옴\n",
    "result = cv2.warpPerspective(img, matrix, (width, height)) # Matrix 대로 변환을 함\n",
    "\n",
    "cv2.imshow('img', img)\n",
    "cv2.imshow('result', result)\n",
    "cv2.waitKey(0)\n",
    "cv2.destroyAllWindows()"
   ]
  },
  {
   "cell_type": "markdown",
   "id": "cfdfdf29",
   "metadata": {},
   "source": [
    "## 회전된 이미지 올바로 세우기"
   ]
  },
  {
   "cell_type": "code",
   "execution_count": 5,
   "id": "e948b29a",
   "metadata": {},
   "outputs": [],
   "source": [
    "import cv2\n",
    "import numpy as np\n",
    "\n",
    "img = cv2.imread('poker.jpg')\n",
    "\n",
    "width, height = 530, 710 # 가로 크기 530, 세로 크기 710 으로 결과물 출력 (그림판에서 확인)\n",
    "\n",
    "# 그림판에서 좌표 따왔다\n",
    "src = np.array([[702, 143], [1127, 415], [726, 1007], [283, 700]], dtype=np.float32) # input 4개 지정\n",
    "dst = np.array([[0, 0], [width, 0], [width, height], [0, height]], dtype=np.float32) # output 4개 지점\n",
    "# 좌상 > 우상 > 우하 > 좌하 (시계 방향으로 4 지점 정의)\n",
    "\n",
    "matrix = cv2.getPerspectiveTransform(src, dst) # Matrix를 얻어옴\n",
    "result = cv2.warpPerspective(img, matrix, (width, height)) # Matrix 대로 변환을 함\n",
    "\n",
    "cv2.imshow('img', img)\n",
    "cv2.imshow('result', result)\n",
    "cv2.waitKey(0)\n",
    "cv2.destroyAllWindows()"
   ]
  },
  {
   "cell_type": "markdown",
   "id": "a9e6eef6",
   "metadata": {},
   "source": [
    "## 미니 프로젝트 : 반자동 문서 스캐너"
   ]
  },
  {
   "cell_type": "markdown",
   "id": "7bf5a0ae",
   "metadata": {},
   "source": [
    "### 마우스 이벤트 등록"
   ]
  },
  {
   "cell_type": "code",
   "execution_count": 11,
   "id": "d540a7ef",
   "metadata": {},
   "outputs": [
    {
     "name": "stdout",
     "output_type": "stream",
     "text": [
      "왼쪽 버튼 Down\n",
      "704 149\n",
      "왼쪽 버튼 Up\n",
      "704 149\n",
      "왼쪽 버튼 Down\n",
      "704 149\n",
      "왼쪽 버튼 Up\n",
      "704 149\n",
      "왼쪽 버튼 Double Click\n",
      "왼쪽 버튼 Up\n",
      "704 149\n",
      "왼쪽 버튼 Down\n",
      "699 162\n",
      "왼쪽 버튼 Up\n",
      "699 162\n",
      "왼쪽 버튼 Double Click\n",
      "왼쪽 버튼 Up\n",
      "699 162\n",
      "오른쪽 버튼 Down\n",
      "오른쪽 버튼 Down\n",
      "오른쪽 버튼 Down\n",
      "오른쪽 버튼 Down\n",
      "오른쪽 버튼 Down\n"
     ]
    }
   ],
   "source": [
    "import cv2\n",
    "\n",
    "def mouse_handler(event, x, y, flags, param):\n",
    "    if event == cv2.EVENT_LBUTTONDOWN: # 마우스 왼쪽 버튼 누름\n",
    "        print('왼쪽 버튼 Down')\n",
    "        print(x, y)\n",
    "    elif event == cv2.EVENT_LBUTTONUP: # 마우스 왼쪽 버튼 up\n",
    "        print('왼쪽 버튼 Up')\n",
    "        print(x, y)\n",
    "    elif event == cv2.EVENT_LBUTTONDBLCLK: # 마우스 왼쪽 버튼 더블 클릭\n",
    "        print('왼쪽 버튼 Double Click')\n",
    "#     elif event == cv2.EVENT_MOUSEMOVE: # 마우스 이동\n",
    "#         print('마우스 이동')\n",
    "    elif event == cv2.EVENT_RBUTTONDOWN: #마우스 오른쪽 버튼 Down\n",
    "        print('오른쪽 버튼 Down')\n",
    "        \n",
    "        \n",
    "        \n",
    "        \n",
    "img = cv2.imread('poker.jpg')\n",
    "cv2.namedWindow('img') # img 란 이름의 window를 먼저 만들어두기 -> 여기에 마우스 이벤트를 처리하기 위한 핸들러 적용\n",
    "cv2.setMouseCallback('img', mouse_handler)\n",
    "cv2.imshow('img', img)\n",
    "cv2.waitKey(0)\n",
    "cv2.destroyAllWindows()"
   ]
  },
  {
   "cell_type": "markdown",
   "id": "ea1f5eab",
   "metadata": {},
   "source": [
    "### 프로젝트"
   ]
  },
  {
   "cell_type": "code",
   "execution_count": 32,
   "id": "727f62fe",
   "metadata": {},
   "outputs": [],
   "source": [
    "import cv2\n",
    "import numpy as np\n",
    "\n",
    "point_list = []\n",
    "src_img = cv2.imread('poker.jpg')\n",
    "\n",
    "COLOR = (255, 0, 255) # Magenta\n",
    "THICKNESS = 3\n",
    "drawing = False # 선을 그릴지 여부\n",
    "\n",
    "def mouse_handler(event, x, y, flags, param):\n",
    "    global drawing\n",
    "    dst_img = src_img.copy()\n",
    "    \n",
    "    if event == cv2.EVENT_LBUTTONDOWN: # 마우스 왼쪽 버튼 누름\n",
    "        drawing = True # 선을 그리기 시작\n",
    "        point_list.append((x, y))\n",
    "    \n",
    "    if drawing:\n",
    "        prev_point = None # 직선의 시작점\n",
    "        for point in point_list:\n",
    "            cv2.circle(src_img, point, 15, COLOR, cv2.FILLED)\n",
    "            if prev_point:\n",
    "                cv2.line(dst_img, prev_point, point, COLOR, THICKNESS, cv2.LINE_AA)\n",
    "            prev_point = point    \n",
    "       \n",
    "        next_point = (x, y)\n",
    "\n",
    "        if len(point_list) == 4:\n",
    "            show_result() # 결과 출력\n",
    "            next_point = point_list[0] # 첫 번째 클릭한 지점\n",
    "            \n",
    "        cv2.line(dst_img, prev_point, next_point, COLOR, THICKNESS, cv2.LINE_AA)\n",
    "\n",
    "        \n",
    "    cv2.imshow('img', dst_img)\n",
    "        \n",
    "        \n",
    "def show_result():\n",
    "    \n",
    "    width, height = 530, 710 # 가로 크기 530, 세로 크기 710 으로 결과물 출력 (그림판에서 확인)\n",
    "    src = np.float32(point_list)\n",
    "    dst = np.array([[0, 0], [width, 0], [width, height], [0, height]], dtype=np.float32) # output 4개 지점\n",
    "    \n",
    "    matrix = cv2.getPerspectiveTransform(src, dst) # Matrix를 얻어옴\n",
    "    result = cv2.warpPerspective(src_img, matrix, (width, height)) # Matrix 대로 변환을 함\n",
    "    cv2.imshow('result', result)\n",
    "    \n",
    "    \n",
    "    \n",
    "        \n",
    "cv2.namedWindow('img') # img 란 이름의 window를 먼저 만들어두기 -> 여기에 마우스 이벤트를 처리하기 위한 핸들러 적용\n",
    "cv2.setMouseCallback('img', mouse_handler)\n",
    "cv2.imshow('img', src_img)\n",
    "cv2.waitKey(0)\n",
    "cv2.destroyAllWindows()"
   ]
  },
  {
   "cell_type": "code",
   "execution_count": null,
   "id": "372a0160",
   "metadata": {},
   "outputs": [],
   "source": []
  }
 ],
 "metadata": {
  "kernelspec": {
   "display_name": "Python 3 (ipykernel)",
   "language": "python",
   "name": "python3"
  },
  "language_info": {
   "codemirror_mode": {
    "name": "ipython",
    "version": 3
   },
   "file_extension": ".py",
   "mimetype": "text/x-python",
   "name": "python",
   "nbconvert_exporter": "python",
   "pygments_lexer": "ipython3",
   "version": "3.9.7"
  }
 },
 "nbformat": 4,
 "nbformat_minor": 5
}
