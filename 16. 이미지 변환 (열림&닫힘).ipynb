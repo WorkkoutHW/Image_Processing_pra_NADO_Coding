{
 "cells": [
  {
   "cell_type": "markdown",
   "id": "1bf08e3e",
   "metadata": {},
   "source": [
    "# 16. 이미지 변환 (열림&닫힘)"
   ]
  },
  {
   "cell_type": "markdown",
   "id": "6b5e1613",
   "metadata": {},
   "source": [
    "## 열림 (Opening) : 침식 후 팽창 (깎아서 노이즈 제거 후 이미지를 살 찌움) \n",
    "### White noise cancling\n",
    "> dilate(erode(image))"
   ]
  },
  {
   "cell_type": "code",
   "execution_count": 5,
   "id": "7dfe7b53",
   "metadata": {},
   "outputs": [],
   "source": [
    "import cv2\n",
    "import numpy as np\n",
    "\n",
    "kernel = np.ones((3,3), dtype=np.uint8)\n",
    "\n",
    "img = cv2.imread('erode.png', cv2.IMREAD_GRAYSCALE)\n",
    "\n",
    "erode = cv2.erode(img, kernel, iterations=3)\n",
    "dilate = cv2.dilate(erode, kernel, iterations=3)\n",
    "\n",
    "cv2.imshow('img', img)\n",
    "cv2.imshow('erode', erode)\n",
    "cv2.imshow('dilate', dilate)\n",
    "\n",
    "cv2.waitKey(0)\n",
    "cv2.destroyAllWindows()"
   ]
  },
  {
   "cell_type": "markdown",
   "id": "34da323f",
   "metadata": {},
   "source": [
    "## 닫힘 (Closing) : 팽창 후 침식. 구멍을 메우고 다시 깎음\n",
    "> erode(dilate(image))\n",
    "### paper noise cancling"
   ]
  },
  {
   "cell_type": "code",
   "execution_count": 6,
   "id": "61c7ae54",
   "metadata": {},
   "outputs": [],
   "source": [
    "import cv2\n",
    "import numpy as np\n",
    "\n",
    "kernel = np.ones((3,3), dtype=np.uint8)\n",
    "\n",
    "img = cv2.imread('dilate.png', cv2.IMREAD_GRAYSCALE)\n",
    "\n",
    "dilate = cv2.dilate(img, kernel, iterations=3)\n",
    "erode = cv2.erode(dilate, kernel, iterations=3)\n",
    "\n",
    "cv2.imshow('img', img)\n",
    "cv2.imshow('erode', erode)\n",
    "cv2.imshow('dilate', dilate)\n",
    "\n",
    "cv2.waitKey(0)\n",
    "cv2.destroyAllWindows()"
   ]
  }
 ],
 "metadata": {
  "kernelspec": {
   "display_name": "Python 3 (ipykernel)",
   "language": "python",
   "name": "python3"
  },
  "language_info": {
   "codemirror_mode": {
    "name": "ipython",
    "version": 3
   },
   "file_extension": ".py",
   "mimetype": "text/x-python",
   "name": "python",
   "nbconvert_exporter": "python",
   "pygments_lexer": "ipython3",
   "version": "3.9.7"
  }
 },
 "nbformat": 4,
 "nbformat_minor": 5
}
