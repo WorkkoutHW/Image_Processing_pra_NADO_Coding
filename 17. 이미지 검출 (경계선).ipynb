{
 "cells": [
  {
   "cell_type": "markdown",
   "id": "f3d0b9a3",
   "metadata": {},
   "source": [
    "# 17. 이미지 검출 (경계선)"
   ]
  },
  {
   "cell_type": "markdown",
   "id": "cb911cad",
   "metadata": {},
   "source": [
    "## Canny Edge Detection"
   ]
  },
  {
   "cell_type": "code",
   "execution_count": 1,
   "id": "239c4476",
   "metadata": {},
   "outputs": [],
   "source": [
    "import cv2\n",
    "img = cv2.imread('snowman.png')\n",
    "\n",
    "def empty(pos):\n",
    "    pass\n",
    "\n",
    "name = \"Trackbar\"\n",
    "cv2.namedWindow(name)\n",
    "cv2.createTrackbar('threshold1', name, 0, 255, empty) # minVal\n",
    "cv2.createTrackbar('threshold2', name, 0, 255, empty) # maxVale\n",
    "\n",
    "while True:\n",
    "    threshold1 = cv2.getTrackbarPos('threshold1', name)\n",
    "    threshold2 = cv2.getTrackbarPos('threshold2', name)\n",
    "    \n",
    "    canny = cv2.Canny(img, threshold1, threshold2) \n",
    "    # 대상 이미지, min Value(하위 임계값), max Value(상위 임계값) \n",
    "\n",
    "    cv2.imshow('img', img)\n",
    "    cv2.imshow('name', canny)\n",
    "    \n",
    "    if cv2.waitKey(1) == ord('q'):\n",
    "        break\n",
    "\n",
    "cv2.destroyAllWindows()"
   ]
  }
 ],
 "metadata": {
  "kernelspec": {
   "display_name": "Python 3 (ipykernel)",
   "language": "python",
   "name": "python3"
  },
  "language_info": {
   "codemirror_mode": {
    "name": "ipython",
    "version": 3
   },
   "file_extension": ".py",
   "mimetype": "text/x-python",
   "name": "python",
   "nbconvert_exporter": "python",
   "pygments_lexer": "ipython3",
   "version": "3.9.7"
  }
 },
 "nbformat": 4,
 "nbformat_minor": 5
}
